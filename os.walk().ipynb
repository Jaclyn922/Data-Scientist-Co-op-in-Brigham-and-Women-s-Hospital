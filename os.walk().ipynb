{
 "cells": [
  {
   "cell_type": "code",
   "execution_count": 1,
   "id": "e3426289-fe15-43e7-af55-5aa70c954ce1",
   "metadata": {},
   "outputs": [],
   "source": [
    "import os\n",
    "import pandas as pd\n",
    "\n",
    "file_suffixes = {\n",
    "    'epigenetic/methylation': ['.IDAT', '.idat'],\n",
    "    'dna/whole_genome': ['fastq', 'fastq.gz'],\n",
    "}\n",
    "\n",
    "def collect_dataset_files(top_directory, file_suffixes):\n",
    "    dataset_files = []\n",
    "    metadata = []\n",
    "\n",
    "    for dataset_type, suffixes in file_suffixes.items():\n",
    "        for root, dirs, files in os.walk(top_directory):\n",
    "            print(files)\n",
    "            for file in files:\n",
    "                if file.endswith(tuple(suffixes)):\n",
    "                    file_path = os.path.join(root, file)\n",
    "                    dataset_files.append(file_path)\n",
    "\n",
    "                    # Extract metadata from the file path\n",
    "                    metadata.append({\n",
    "                        'file_path': file_path,\n",
    "                        'dataset_type': dataset_type,\n",
    "                        'sample_id': extract_sample_id(file_path),  # Implement extract_sample_id() function\n",
    "                        'other_metadata': extract_other_metadata(file_path)  # Implement extract_other_metadata() function\n",
    "                    })\n",
    "                    \n",
    "                    print(\"Found dataset file:\", file_path)\n",
    "\n",
    "    # Create a pandas DataFrame\n",
    "    metadata_df = pd.DataFrame(metadata)\n",
    "\n",
    "    return dataset_files, metadata_df\n",
    "\n",
    "def extract_sample_id(file_path):\n",
    "     pass\n",
    "\n",
    "def extract_other_metadata(file_path):\n",
    "    pass\n",
    "\n"
   ]
  },
  {
   "cell_type": "code",
   "execution_count": null,
   "id": "77d44c20-6fb1-4baf-a0a8-dd026ee77852",
   "metadata": {},
   "outputs": [
    {
     "name": "stdout",
     "output_type": "stream",
     "text": [
      "['README.CDNM']\n",
      "[]\n",
      "['file-manifest.csv', 'sample-manifest.csv']\n",
      "[]\n",
      "[]\n",
      "['RGSet.clean.blood.220731', 'RGSet.blood.220723', 'MSet.noob.blood.220723', 'M.clean.funnorm.rcp', 'nonCpG_probes.csv', 'beta.noob.blood.220723', 'lowbeadnum_probes.blood.csv', 'beta.clean.funnorm.blood.220802', 'beta.clean.funnorm.blood.csv', 'MSet.clean.blood.220731', 'beta.funnorm.blood.220728', 'beta.clean.funnorm.rcp.blood.csv', 'COPDGene_SampleSheet_Blood.220708.csv', 'beta.clean.funnorm.rcp.blood.220804', 'LociwithSNPs_CpG_SBE.blood.csv', 'cross_reactive_probes.blood.csv', 'COPDGene_Blood.qc.report.html', 'README.html', 'MSet_raw.blood.220723', 'detP_failedProbes.blood.csv', 'MSet.clean.noob.blood.220801', 'beta.funnorm.rcp.blood.220728', 'COPD.blood.key.info.csv', 'beta.clean.noob.blood.220801', 'badsamples_blood_all.220708.csv']\n",
      "['beta.clean.funnorm.rcp.blood.updated.220930', 'MSet.clean.noob.blood.updated.220930', 'MSet.noob.blood.updated.220930', 'beta.funnorm.rcp.blood.updated.220930', 'MSet.clean.blood.updated.220930', 'RGSet.clean.blood.updated.220930', 'RGSet.blood.updated.220930', 'beta.clean.noob.blood.updated.220930', 'beta.clean.funnorm.blood.updated.220930', 'beta.noob.blood.updated.220930', 'beta.funnorm.blood.updated.220930', 'COPDGene_SampleSheet_Blood.updated.220930.csv', 'badsamples_blood_all.updated.220930.csv', 'MSet_raw.blood.updated.220930']\n",
      "['copd.blood.cellcounts.csv', 'snp_under_probes.csv', 'Beta.noob', 'detP_failedProbe.csv', 'qc.copd.blood-report.html', 'RGSet', 'MSet.noob', 'badsamples.csv', 'samplesheet.pheno.cellcounts.csv', 'ENmix_frequency.polygon.plot_copd.blood_without_rcp.jpg', 'cross_reactive_probes.csv', 'ENmix_frequency.polygon.plot_copd.blood_after_rcp.jpg', 'SampleSheet12095.csv', 'copd.blood.beta.rcp', 'topmed_sample_metadata_copdGeneMethylation_20210301.csv', 'QC_documentation_for_COPD.blood.html', 'QC_documentation_for_COPD.blood.Rmd', 'epigenetic.age.copd.blood.csv', 'copd.blood.beta', 'copd.blood.beta.rcp.clean', 'SampleSheet12147.csv', 'COPD.blood.key.info.csv']\n",
      "['generate.qc.files.R', 'estimate.cellcounts.R', 'copd.blood.meffil.qc.report.R']\n",
      "['Beta.clean.funnorm.blood.white.8247.20230203', 'M.clean.funnorm.rcp.AA.3565.20230205', 'LociwithSNPs_CpG_SBE.blood.20230125.csv', 'MSet.clean.noob.blood.11812.20230127', 'beta.clean.funnorm.rcp.blood.11812.20230127', 'RGSet.clean.white.8247.20230201', 'RGSet.blood.11812.20230119', 'COPDGBlood.README.html', 'failed_probes_all.blood.20230126.csv', 'RGSet.clean.AA.3565.20230201', 'COPDGBlood.README.Rmd', 'COPDGene_Blood.qc.report.11812.html', 'M.clean.funnorm.rcp.white.8247.20230204', 'Beta.clean.funnorm.blood.AA.3565.20230203', 'beta.clean.funnorm.blood.11812.20230127', 'MSet_raw.blood.11812.20230119', 'COPDG.Blood.SampleSheet.11812.csv', 'lowbeadnum_probes.blood.11812.csv', 'M.clean.funnorm.rcp.11812.20230130', 'GRSet.clean.funnorm.blood.11812.20230127', 'B4_vs_B5probes_990.csv', 'nonCpG_probes.20230125.csv', 'Beta.clean.funnorm.rcp.blood.AA.3565.20230203', 'detP_failedProbes.blood.20230125.csv', 'badsamples_blood_all.230119.csv', 'cross_reactive_probes.blood.20230125.csv', 'estimate.cellcounts.bloodExtended.prop.11812', 'COPD.blood.key.info.csv', 'RGSet.clean.blood.11812.20230126', 'estimate.cellcounts.bloodExtended.prop.csv']\n",
      "['COPDGBlood.ProbeRemoval.R', 'COPDGBlood.meffil.R', 'COPDGene_Blood.qc.report.11812.md']\n",
      "[]\n",
      "[]\n",
      "['external-reference-concordance.ped', 'external-reference-concordance.csv', 'sample-table.pep.yaml', 'stats.txt', 'README.CDNM', 'dataset.pep.yaml', 'external-reference-concordance.nosex', 'external-reference-concordance.map', 'external-reference-concordance.log', 'dataset.pep.yaml~', 'silverman_ltrc_methylation_plate_numbers.xlsx', 'external-reference-concordance.html', 'COPD-Table 1.csv']\n",
      "['spot_manifest_nasal_samples_08202020.csv']\n"
     ]
    }
   ],
   "source": [
    "# test example\n",
    "top_directory = \"/proj/regeps/regep00/studies/COPDGene/data/epigenetic/methylation/TopMed\"\n",
    "dataset_files, metadata_df = collect_dataset_files(top_directory, file_suffixes)\n",
    "\n",
    "# Print the collected dataset files\n",
    "for file in dataset_files:\n",
    "    print(file)\n",
    "\n",
    "# Display the metadata DataFrame\n",
    "print(metadata_df)\n"
   ]
  },
  {
   "cell_type": "code",
   "execution_count": null,
   "id": "03789635-0bc5-4b9b-8881-b4ac62cbe9f6",
   "metadata": {},
   "outputs": [],
   "source": []
  },
  {
   "cell_type": "code",
   "execution_count": null,
   "id": "aed663b3-0f74-466d-827b-077a0b374c21",
   "metadata": {},
   "outputs": [],
   "source": []
  }
 ],
 "metadata": {
  "kernelspec": {
   "display_name": "cdnm-jupyter-python-3.7.6",
   "language": "python",
   "name": "cdnm-jupyter-python-3.7.6"
  },
  "language_info": {
   "codemirror_mode": {
    "name": "ipython",
    "version": 3
   },
   "file_extension": ".py",
   "mimetype": "text/x-python",
   "name": "python",
   "nbconvert_exporter": "python",
   "pygments_lexer": "ipython3",
   "version": "3.9.7"
  }
 },
 "nbformat": 4,
 "nbformat_minor": 5
}
