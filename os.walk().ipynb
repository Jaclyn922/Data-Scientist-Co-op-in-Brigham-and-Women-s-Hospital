{
 "cells": [
  {
   "cell_type": "code",
   "execution_count": 46,
   "id": "e3426289-fe15-43e7-af55-5aa70c954ce1",
   "metadata": {},
   "outputs": [],
   "source": [
    "import os\n",
    "import pandas as pd\n",
    "\n",
    "file_suffixes = {\n",
    "    'epigenetic/methylation': ['.IDAT', '.idat'],\n",
    "    'dna/whole_genome': ['fastq', 'fastq.gz'],\n",
    "}\n",
    "\n",
    "def collect_dataset_files(top_directory, file_suffixes):\n",
    "    dataset_files = []\n",
    "    metadata = []\n",
    "\n",
    "    for dataset_type, suffixes in file_suffixes.items():\n",
    "        for root, dirs, files in os.walk(os.path.join(top_directory, dataset_type)):\n",
    "            print(files)\n",
    "            for file in files:\n",
    "                if file.endswith(tuple(suffixes)):\n",
    "                    file_path = os.path.join(root, file)\n",
    "                    dataset_files.append(file_path)\n",
    "\n",
    "                    # Extract metadata from the file path\n",
    "                    metadata.append({\n",
    "                        'file_path': file_path,\n",
    "                        'dataset_type': dataset_type,\n",
    "                        'sample_id': extract_sample_id(file_path),  # Implement extract_sample_id() function\n",
    "                        'other_metadata': extract_other_metadata(file_path)  # Implement extract_other_metadata() function\n",
    "                    })\n",
    "                    \n",
    "                    print(\"Found dataset file:\", file_path)\n",
    "\n",
    "    # Create a pandas DataFrame\n",
    "    metadata_df = pd.DataFrame(metadata)\n",
    "\n",
    "    return dataset_files, metadata_df\n",
    "\n",
    "def extract_sample_id(file_path):\n",
    "     pass\n",
    "\n",
    "def extract_other_metadata(file_path):\n",
    "    pass\n",
    "\n"
   ]
  },
  {
   "cell_type": "code",
   "execution_count": 47,
   "id": "77d44c20-6fb1-4baf-a0a8-dd026ee77852",
   "metadata": {},
   "outputs": [
    {
     "name": "stdout",
     "output_type": "stream",
     "text": [
      "Empty DataFrame\n",
      "Columns: []\n",
      "Index: []\n"
     ]
    }
   ],
   "source": [
    "# test example\n",
    "top_directory = \"/proj/regeps/regep00/studies/COPDGene/data/epigenetic/methylation/TopMed\"\n",
    "dataset_files, metadata_df = collect_dataset_files(top_directory, file_suffixes)\n",
    "\n",
    "# Print the collected dataset files\n",
    "for file in dataset_files:\n",
    "    print(file)\n",
    "\n",
    "# Display the metadata DataFrame\n",
    "print(metadata_df)\n"
   ]
  },
  {
   "cell_type": "code",
   "execution_count": null,
   "id": "03789635-0bc5-4b9b-8881-b4ac62cbe9f6",
   "metadata": {},
   "outputs": [],
   "source": []
  },
  {
   "cell_type": "code",
   "execution_count": null,
   "id": "aed663b3-0f74-466d-827b-077a0b374c21",
   "metadata": {},
   "outputs": [],
   "source": []
  }
 ],
 "metadata": {
  "kernelspec": {
   "display_name": "cdnm-jupyter-python-3.7.6",
   "language": "python",
   "name": "cdnm-jupyter-python-3.7.6"
  },
  "language_info": {
   "codemirror_mode": {
    "name": "ipython",
    "version": 3
   },
   "file_extension": ".py",
   "mimetype": "text/x-python",
   "name": "python",
   "nbconvert_exporter": "python",
   "pygments_lexer": "ipython3",
   "version": "3.9.16"
  }
 },
 "nbformat": 4,
 "nbformat_minor": 5
}
